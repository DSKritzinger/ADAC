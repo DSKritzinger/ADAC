{
 "cells": [
  {
   "cell_type": "code",
   "execution_count": 2,
   "metadata": {
    "ExecuteTime": {
     "end_time": "2019-04-03T20:06:07.982541Z",
     "start_time": "2019-04-03T20:06:07.978588Z"
    }
   },
   "outputs": [],
   "source": [
    "from sklearn.ensemble import RandomForestClassifier\n",
    "from sklearn.ensemble import VotingClassifier\n",
    "from sklearn.linear_model import LogisticRegression\n",
    "from sklearn.svm import SVC\n",
    "from sklearn.model_selection import train_test_split\n",
    "from sklearn.datasets import make_moons\n",
    "from sklearn.metrics import accuracy_score\n",
    "from sklearn.ensemble import BaggingClassifier\n",
    "from sklearn.tree import DecisionTreeClassifier\n",
    "from sklearn.ensemble import RandomForestClassifier\n",
    "from sklearn.ensemble import AdaBoostClassifier\n",
    "from sklearn.tree import DecisionTreeRegressor\n",
    "from sklearn.ensemble import GradientBoostingRegressor"
   ]
  },
  {
   "cell_type": "code",
   "execution_count": 26,
   "metadata": {
    "ExecuteTime": {
     "end_time": "2019-04-01T16:19:29.483604Z",
     "start_time": "2019-04-01T16:19:29.478609Z"
    }
   },
   "outputs": [],
   "source": [
    "X, y = make_moons(n_samples=500, noise=0.30, random_state=42)\n",
    "X_train, X_test, y_train, y_test = train_test_split(X, y, random_state=42)"
   ]
  },
  {
   "cell_type": "code",
   "execution_count": 27,
   "metadata": {
    "ExecuteTime": {
     "end_time": "2019-04-01T16:19:29.862636Z",
     "start_time": "2019-04-01T16:19:29.846725Z"
    }
   },
   "outputs": [
    {
     "name": "stderr",
     "output_type": "stream",
     "text": [
      "c:\\users\\daniel\\appdata\\local\\continuum\\anaconda3\\envs\\ada\\lib\\site-packages\\sklearn\\linear_model\\logistic.py:433: FutureWarning: Default solver will be changed to 'lbfgs' in 0.22. Specify a solver to silence this warning.\n",
      "  FutureWarning)\n",
      "c:\\users\\daniel\\appdata\\local\\continuum\\anaconda3\\envs\\ada\\lib\\site-packages\\sklearn\\ensemble\\forest.py:246: FutureWarning: The default value of n_estimators will change from 10 in version 0.20 to 100 in 0.22.\n",
      "  \"10 in version 0.20 to 100 in 0.22.\", FutureWarning)\n",
      "c:\\users\\daniel\\appdata\\local\\continuum\\anaconda3\\envs\\ada\\lib\\site-packages\\sklearn\\svm\\base.py:196: FutureWarning: The default value of gamma will change from 'auto' to 'scale' in version 0.22 to account better for unscaled features. Set gamma explicitly to 'auto' or 'scale' to avoid this warning.\n",
      "  \"avoid this warning.\", FutureWarning)\n"
     ]
    },
    {
     "data": {
      "text/plain": [
       "VotingClassifier(estimators=[('lr', LogisticRegression(C=1.0, class_weight=None, dual=False, fit_intercept=True,\n",
       "          intercept_scaling=1, max_iter=100, multi_class='warn',\n",
       "          n_jobs=None, penalty='l2', random_state=None, solver='warn',\n",
       "          tol=0.0001, verbose=0, warm_start=False)), ('rf', RandomFo...f', max_iter=-1, probability=False, random_state=None,\n",
       "  shrinking=True, tol=0.001, verbose=False))],\n",
       "         flatten_transform=None, n_jobs=None, voting='hard', weights=None)"
      ]
     },
     "execution_count": 27,
     "metadata": {},
     "output_type": "execute_result"
    }
   ],
   "source": [
    "log_clf = LogisticRegression()\n",
    "rnd_clf = RandomForestClassifier()\n",
    "svm_clf = SVC()\n",
    "\n",
    "voting_clf = VotingClassifier(\n",
    "    estimators=[('lr', log_clf), ('rf', rnd_clf), ('svc', svm_clf)],\n",
    "    voting='hard')\n",
    "\n",
    "voting_clf.fit(X_train, y_train)"
   ]
  },
  {
   "cell_type": "code",
   "execution_count": 28,
   "metadata": {
    "ExecuteTime": {
     "end_time": "2019-04-01T16:19:31.058819Z",
     "start_time": "2019-04-01T16:19:31.028868Z"
    }
   },
   "outputs": [
    {
     "name": "stdout",
     "output_type": "stream",
     "text": [
      "LogisticRegression 0.864\n",
      "RandomForestClassifier 0.88\n",
      "SVC 0.888\n",
      "VotingClassifier 0.904\n"
     ]
    },
    {
     "name": "stderr",
     "output_type": "stream",
     "text": [
      "c:\\users\\daniel\\appdata\\local\\continuum\\anaconda3\\envs\\ada\\lib\\site-packages\\sklearn\\linear_model\\logistic.py:433: FutureWarning: Default solver will be changed to 'lbfgs' in 0.22. Specify a solver to silence this warning.\n",
      "  FutureWarning)\n",
      "c:\\users\\daniel\\appdata\\local\\continuum\\anaconda3\\envs\\ada\\lib\\site-packages\\sklearn\\ensemble\\forest.py:246: FutureWarning: The default value of n_estimators will change from 10 in version 0.20 to 100 in 0.22.\n",
      "  \"10 in version 0.20 to 100 in 0.22.\", FutureWarning)\n",
      "c:\\users\\daniel\\appdata\\local\\continuum\\anaconda3\\envs\\ada\\lib\\site-packages\\sklearn\\svm\\base.py:196: FutureWarning: The default value of gamma will change from 'auto' to 'scale' in version 0.22 to account better for unscaled features. Set gamma explicitly to 'auto' or 'scale' to avoid this warning.\n",
      "  \"avoid this warning.\", FutureWarning)\n",
      "c:\\users\\daniel\\appdata\\local\\continuum\\anaconda3\\envs\\ada\\lib\\site-packages\\sklearn\\linear_model\\logistic.py:433: FutureWarning: Default solver will be changed to 'lbfgs' in 0.22. Specify a solver to silence this warning.\n",
      "  FutureWarning)\n",
      "c:\\users\\daniel\\appdata\\local\\continuum\\anaconda3\\envs\\ada\\lib\\site-packages\\sklearn\\svm\\base.py:196: FutureWarning: The default value of gamma will change from 'auto' to 'scale' in version 0.22 to account better for unscaled features. Set gamma explicitly to 'auto' or 'scale' to avoid this warning.\n",
      "  \"avoid this warning.\", FutureWarning)\n"
     ]
    }
   ],
   "source": [
    "for clf in (log_clf, rnd_clf, svm_clf, voting_clf):\n",
    "    clf.fit(X_train, y_train)\n",
    "    y_pred = clf.predict(X_test)\n",
    "    print(clf.__class__.__name__, accuracy_score(y_test, y_pred))"
   ]
  },
  {
   "cell_type": "code",
   "execution_count": 31,
   "metadata": {
    "ExecuteTime": {
     "end_time": "2019-04-01T16:24:10.787650Z",
     "start_time": "2019-04-01T16:24:10.766706Z"
    }
   },
   "outputs": [
    {
     "name": "stderr",
     "output_type": "stream",
     "text": [
      "c:\\users\\daniel\\appdata\\local\\continuum\\anaconda3\\envs\\ada\\lib\\site-packages\\sklearn\\linear_model\\logistic.py:433: FutureWarning: Default solver will be changed to 'lbfgs' in 0.22. Specify a solver to silence this warning.\n",
      "  FutureWarning)\n",
      "c:\\users\\daniel\\appdata\\local\\continuum\\anaconda3\\envs\\ada\\lib\\site-packages\\sklearn\\ensemble\\forest.py:246: FutureWarning: The default value of n_estimators will change from 10 in version 0.20 to 100 in 0.22.\n",
      "  \"10 in version 0.20 to 100 in 0.22.\", FutureWarning)\n",
      "c:\\users\\daniel\\appdata\\local\\continuum\\anaconda3\\envs\\ada\\lib\\site-packages\\sklearn\\svm\\base.py:196: FutureWarning: The default value of gamma will change from 'auto' to 'scale' in version 0.22 to account better for unscaled features. Set gamma explicitly to 'auto' or 'scale' to avoid this warning.\n",
      "  \"avoid this warning.\", FutureWarning)\n"
     ]
    },
    {
     "data": {
      "text/plain": [
       "VotingClassifier(estimators=[('lr', LogisticRegression(C=1.0, class_weight=None, dual=False, fit_intercept=True,\n",
       "          intercept_scaling=1, max_iter=100, multi_class='warn',\n",
       "          n_jobs=None, penalty='l2', random_state=None, solver='warn',\n",
       "          tol=0.0001, verbose=0, warm_start=False)), ('rf', RandomFo...bf', max_iter=-1, probability=True, random_state=None,\n",
       "  shrinking=True, tol=0.001, verbose=False))],\n",
       "         flatten_transform=None, n_jobs=None, voting='soft', weights=None)"
      ]
     },
     "execution_count": 31,
     "metadata": {},
     "output_type": "execute_result"
    }
   ],
   "source": [
    "log_clf = LogisticRegression()\n",
    "rnd_clf = RandomForestClassifier()\n",
    "svm_clf = SVC()\n",
    "\n",
    "voting_clf = VotingClassifier(\n",
    "    estimators=[('lr', log_clf), ('rf', rnd_clf), ('svc', svm_clf)],\n",
    "    voting='soft')\n",
    "\n",
    "voting_clf.fit(X_train, y_train)"
   ]
  },
  {
   "cell_type": "code",
   "execution_count": 32,
   "metadata": {
    "ExecuteTime": {
     "end_time": "2019-04-01T16:24:21.535768Z",
     "start_time": "2019-04-01T16:24:21.501855Z"
    }
   },
   "outputs": [
    {
     "name": "stdout",
     "output_type": "stream",
     "text": [
      "LogisticRegression 0.864\n",
      "RandomForestClassifier 0.888\n",
      "SVC 0.888\n",
      "VotingClassifier 0.92\n"
     ]
    },
    {
     "name": "stderr",
     "output_type": "stream",
     "text": [
      "c:\\users\\daniel\\appdata\\local\\continuum\\anaconda3\\envs\\ada\\lib\\site-packages\\sklearn\\linear_model\\logistic.py:433: FutureWarning: Default solver will be changed to 'lbfgs' in 0.22. Specify a solver to silence this warning.\n",
      "  FutureWarning)\n",
      "c:\\users\\daniel\\appdata\\local\\continuum\\anaconda3\\envs\\ada\\lib\\site-packages\\sklearn\\ensemble\\forest.py:246: FutureWarning: The default value of n_estimators will change from 10 in version 0.20 to 100 in 0.22.\n",
      "  \"10 in version 0.20 to 100 in 0.22.\", FutureWarning)\n",
      "c:\\users\\daniel\\appdata\\local\\continuum\\anaconda3\\envs\\ada\\lib\\site-packages\\sklearn\\svm\\base.py:196: FutureWarning: The default value of gamma will change from 'auto' to 'scale' in version 0.22 to account better for unscaled features. Set gamma explicitly to 'auto' or 'scale' to avoid this warning.\n",
      "  \"avoid this warning.\", FutureWarning)\n",
      "c:\\users\\daniel\\appdata\\local\\continuum\\anaconda3\\envs\\ada\\lib\\site-packages\\sklearn\\linear_model\\logistic.py:433: FutureWarning: Default solver will be changed to 'lbfgs' in 0.22. Specify a solver to silence this warning.\n",
      "  FutureWarning)\n",
      "c:\\users\\daniel\\appdata\\local\\continuum\\anaconda3\\envs\\ada\\lib\\site-packages\\sklearn\\svm\\base.py:196: FutureWarning: The default value of gamma will change from 'auto' to 'scale' in version 0.22 to account better for unscaled features. Set gamma explicitly to 'auto' or 'scale' to avoid this warning.\n",
      "  \"avoid this warning.\", FutureWarning)\n"
     ]
    }
   ],
   "source": [
    "for clf in (log_clf, rnd_clf, svm_clf, voting_clf):\n",
    "    clf.fit(X_train, y_train)\n",
    "    y_pred = clf.predict(X_test)\n",
    "    print(clf.__class__.__name__, accuracy_score(y_test, y_pred))"
   ]
  },
  {
   "cell_type": "code",
   "execution_count": 38,
   "metadata": {
    "ExecuteTime": {
     "end_time": "2019-04-01T16:35:39.801022Z",
     "start_time": "2019-04-01T16:35:39.582011Z"
    }
   },
   "outputs": [
    {
     "name": "stdout",
     "output_type": "stream",
     "text": [
      "0.92\n"
     ]
    }
   ],
   "source": [
    "bag_clf = BaggingClassifier(\n",
    "    DecisionTreeClassifier(), n_estimators=500,\n",
    "    max_samples=100, bootstrap=True, n_jobs=-1\n",
    ")\n",
    "\n",
    "bag_clf.fit(X_train, y_train)\n",
    "y_pred = bag_clf.predict(X_test)\n",
    "print(accuracy_score(y_test, y_pred))"
   ]
  },
  {
   "cell_type": "code",
   "execution_count": 43,
   "metadata": {
    "ExecuteTime": {
     "end_time": "2019-04-01T16:44:25.202024Z",
     "start_time": "2019-04-01T16:44:25.049398Z"
    }
   },
   "outputs": [
    {
     "data": {
      "text/plain": [
       "0.8986666666666666"
      ]
     },
     "execution_count": 43,
     "metadata": {},
     "output_type": "execute_result"
    }
   ],
   "source": [
    "bag_clf = BaggingClassifier(\n",
    "    DecisionTreeClassifier(), n_estimators=500,\n",
    "    bootstrap=True, n_jobs=-1, oob_score=True)\n",
    "\n",
    "bag_clf.fit(X_train, y_train)\n",
    "bag_clf.oob_score_"
   ]
  },
  {
   "cell_type": "code",
   "execution_count": 44,
   "metadata": {
    "ExecuteTime": {
     "end_time": "2019-04-01T16:44:48.987331Z",
     "start_time": "2019-04-01T16:44:48.854672Z"
    }
   },
   "outputs": [
    {
     "data": {
      "text/plain": [
       "0.904"
      ]
     },
     "execution_count": 44,
     "metadata": {},
     "output_type": "execute_result"
    }
   ],
   "source": [
    "y_pred = bag_clf.predict(X_test)\n",
    "accuracy_score(y_test, y_pred)"
   ]
  },
  {
   "cell_type": "code",
   "execution_count": 45,
   "metadata": {
    "ExecuteTime": {
     "end_time": "2019-04-01T16:53:50.873188Z",
     "start_time": "2019-04-01T16:53:50.862244Z"
    }
   },
   "outputs": [
    {
     "data": {
      "text/plain": [
       "array([[0.30769231, 0.69230769],\n",
       "       [0.35227273, 0.64772727],\n",
       "       [1.        , 0.        ],\n",
       "       [0.        , 1.        ],\n",
       "       [0.        , 1.        ],\n",
       "       [0.07894737, 0.92105263],\n",
       "       [0.43010753, 0.56989247],\n",
       "       [0.01764706, 0.98235294],\n",
       "       [1.        , 0.        ],\n",
       "       [0.97326203, 0.02673797],\n",
       "       [0.79329609, 0.20670391],\n",
       "       [0.00502513, 0.99497487],\n",
       "       [0.79569892, 0.20430108],\n",
       "       [0.8342246 , 0.1657754 ],\n",
       "       [0.95744681, 0.04255319],\n",
       "       [0.03333333, 0.96666667],\n",
       "       [0.        , 1.        ],\n",
       "       [0.98823529, 0.01176471],\n",
       "       [0.96875   , 0.03125   ],\n",
       "       [0.99438202, 0.00561798],\n",
       "       [0.01197605, 0.98802395],\n",
       "       [0.36111111, 0.63888889],\n",
       "       [0.91219512, 0.08780488],\n",
       "       [1.        , 0.        ],\n",
       "       [0.95604396, 0.04395604],\n",
       "       [0.        , 1.        ],\n",
       "       [1.        , 0.        ],\n",
       "       [1.        , 0.        ],\n",
       "       [0.        , 1.        ],\n",
       "       [0.62765957, 0.37234043],\n",
       "       [0.        , 1.        ],\n",
       "       [1.        , 0.        ],\n",
       "       [0.        , 1.        ],\n",
       "       [0.        , 1.        ],\n",
       "       [0.15897436, 0.84102564],\n",
       "       [1.        , 0.        ],\n",
       "       [0.00520833, 0.99479167],\n",
       "       [0.40414508, 0.59585492],\n",
       "       [0.        , 1.        ],\n",
       "       [1.        , 0.        ],\n",
       "       [0.20634921, 0.79365079],\n",
       "       [0.30232558, 0.69767442],\n",
       "       [1.        , 0.        ],\n",
       "       [1.        , 0.        ],\n",
       "       [0.        , 1.        ],\n",
       "       [1.        , 0.        ],\n",
       "       [1.        , 0.        ],\n",
       "       [0.02209945, 0.97790055],\n",
       "       [1.        , 0.        ],\n",
       "       [0.01104972, 0.98895028],\n",
       "       [1.        , 0.        ],\n",
       "       [0.8972973 , 0.1027027 ],\n",
       "       [0.96407186, 0.03592814],\n",
       "       [0.96216216, 0.03783784],\n",
       "       [0.        , 1.        ],\n",
       "       [0.0295858 , 0.9704142 ],\n",
       "       [1.        , 0.        ],\n",
       "       [0.        , 1.        ],\n",
       "       [0.        , 1.        ],\n",
       "       [0.        , 1.        ],\n",
       "       [1.        , 0.        ],\n",
       "       [0.75138122, 0.24861878],\n",
       "       [0.41772152, 0.58227848],\n",
       "       [1.        , 0.        ],\n",
       "       [0.        , 1.        ],\n",
       "       [0.73446328, 0.26553672],\n",
       "       [1.        , 0.        ],\n",
       "       [1.        , 0.        ],\n",
       "       [0.88690476, 0.11309524],\n",
       "       [1.        , 0.        ],\n",
       "       [0.6010101 , 0.3989899 ],\n",
       "       [0.12745098, 0.87254902],\n",
       "       [0.68539326, 0.31460674],\n",
       "       [0.94210526, 0.05789474],\n",
       "       [0.        , 1.        ],\n",
       "       [0.18032787, 0.81967213],\n",
       "       [0.90909091, 0.09090909],\n",
       "       [1.        , 0.        ],\n",
       "       [0.        , 1.        ],\n",
       "       [1.        , 0.        ],\n",
       "       [0.        , 1.        ],\n",
       "       [0.06060606, 0.93939394],\n",
       "       [0.02793296, 0.97206704],\n",
       "       [0.36571429, 0.63428571],\n",
       "       [1.        , 0.        ],\n",
       "       [0.00512821, 0.99487179],\n",
       "       [0.86387435, 0.13612565],\n",
       "       [0.        , 1.        ],\n",
       "       [0.        , 1.        ],\n",
       "       [0.        , 1.        ],\n",
       "       [0.21052632, 0.78947368],\n",
       "       [1.        , 0.        ],\n",
       "       [0.        , 1.        ],\n",
       "       [0.        , 1.        ],\n",
       "       [0.        , 1.        ],\n",
       "       [0.96756757, 0.03243243],\n",
       "       [0.805     , 0.195     ],\n",
       "       [0.        , 1.        ],\n",
       "       [1.        , 0.        ],\n",
       "       [0.19459459, 0.80540541],\n",
       "       [0.62430939, 0.37569061],\n",
       "       [0.        , 1.        ],\n",
       "       [0.05263158, 0.94736842],\n",
       "       [0.5       , 0.5       ],\n",
       "       [1.        , 0.        ],\n",
       "       [0.02604167, 0.97395833],\n",
       "       [0.99408284, 0.00591716],\n",
       "       [0.32738095, 0.67261905],\n",
       "       [0.48404255, 0.51595745],\n",
       "       [1.        , 0.        ],\n",
       "       [0.02094241, 0.97905759],\n",
       "       [0.99408284, 0.00591716],\n",
       "       [0.28042328, 0.71957672],\n",
       "       [0.89772727, 0.10227273],\n",
       "       [1.        , 0.        ],\n",
       "       [1.        , 0.        ],\n",
       "       [0.        , 1.        ],\n",
       "       [0.        , 1.        ],\n",
       "       [0.7712766 , 0.2287234 ],\n",
       "       [1.        , 0.        ],\n",
       "       [0.01104972, 0.98895028],\n",
       "       [1.        , 0.        ],\n",
       "       [1.        , 0.        ],\n",
       "       [1.        , 0.        ],\n",
       "       [0.99418605, 0.00581395],\n",
       "       [1.        , 0.        ],\n",
       "       [0.01630435, 0.98369565],\n",
       "       [0.93367347, 0.06632653],\n",
       "       [0.97938144, 0.02061856],\n",
       "       [0.02234637, 0.97765363],\n",
       "       [0.24479167, 0.75520833],\n",
       "       [0.96648045, 0.03351955],\n",
       "       [0.29473684, 0.70526316],\n",
       "       [0.98963731, 0.01036269],\n",
       "       [0.        , 1.        ],\n",
       "       [0.        , 1.        ],\n",
       "       [0.67821782, 0.32178218],\n",
       "       [0.40625   , 0.59375   ],\n",
       "       [0.43646409, 0.56353591],\n",
       "       [0.87931034, 0.12068966],\n",
       "       [0.97765363, 0.02234637],\n",
       "       [0.04736842, 0.95263158],\n",
       "       [0.78787879, 0.21212121],\n",
       "       [0.00540541, 0.99459459],\n",
       "       [0.        , 1.        ],\n",
       "       [0.04455446, 0.95544554],\n",
       "       [1.        , 0.        ],\n",
       "       [1.        , 0.        ],\n",
       "       [1.        , 0.        ],\n",
       "       [0.00537634, 0.99462366],\n",
       "       [0.        , 1.        ],\n",
       "       [0.01630435, 0.98369565],\n",
       "       [0.        , 1.        ],\n",
       "       [1.        , 0.        ],\n",
       "       [1.        , 0.        ],\n",
       "       [0.94623656, 0.05376344],\n",
       "       [1.        , 0.        ],\n",
       "       [1.        , 0.        ],\n",
       "       [0.99438202, 0.00561798],\n",
       "       [0.        , 1.        ],\n",
       "       [0.33522727, 0.66477273],\n",
       "       [0.37912088, 0.62087912],\n",
       "       [0.01829268, 0.98170732],\n",
       "       [0.        , 1.        ],\n",
       "       [0.33701657, 0.66298343],\n",
       "       [1.        , 0.        ],\n",
       "       [1.        , 0.        ],\n",
       "       [0.        , 1.        ],\n",
       "       [1.        , 0.        ],\n",
       "       [0.00518135, 0.99481865],\n",
       "       [0.        , 1.        ],\n",
       "       [0.99447514, 0.00552486],\n",
       "       [0.        , 1.        ],\n",
       "       [0.        , 1.        ],\n",
       "       [1.        , 0.        ],\n",
       "       [0.00505051, 0.99494949],\n",
       "       [0.68449198, 0.31550802],\n",
       "       [0.94      , 0.06      ],\n",
       "       [0.        , 1.        ],\n",
       "       [1.        , 0.        ],\n",
       "       [0.99425287, 0.00574713],\n",
       "       [1.        , 0.        ],\n",
       "       [0.        , 1.        ],\n",
       "       [0.        , 1.        ],\n",
       "       [1.        , 0.        ],\n",
       "       [0.11299435, 0.88700565],\n",
       "       [1.        , 0.        ],\n",
       "       [0.01754386, 0.98245614],\n",
       "       [0.00549451, 0.99450549],\n",
       "       [1.        , 0.        ],\n",
       "       [0.        , 1.        ],\n",
       "       [0.06451613, 0.93548387],\n",
       "       [0.99444444, 0.00555556],\n",
       "       [0.94329897, 0.05670103],\n",
       "       [0.78142077, 0.21857923],\n",
       "       [0.66137566, 0.33862434],\n",
       "       [0.        , 1.        ],\n",
       "       [0.1319797 , 0.8680203 ],\n",
       "       [1.        , 0.        ],\n",
       "       [0.9673913 , 0.0326087 ],\n",
       "       [0.98378378, 0.01621622],\n",
       "       [1.        , 0.        ],\n",
       "       [0.        , 1.        ],\n",
       "       [0.        , 1.        ],\n",
       "       [0.4127907 , 0.5872093 ],\n",
       "       [0.84816754, 0.15183246],\n",
       "       [0.        , 1.        ],\n",
       "       [0.00510204, 0.99489796],\n",
       "       [1.        , 0.        ],\n",
       "       [0.02538071, 0.97461929],\n",
       "       [0.        , 1.        ],\n",
       "       [0.98387097, 0.01612903],\n",
       "       [0.        , 1.        ],\n",
       "       [0.28823529, 0.71176471],\n",
       "       [0.        , 1.        ],\n",
       "       [1.        , 0.        ],\n",
       "       [0.        , 1.        ],\n",
       "       [0.        , 1.        ],\n",
       "       [0.98295455, 0.01704545],\n",
       "       [0.87368421, 0.12631579],\n",
       "       [0.98369565, 0.01630435],\n",
       "       [0.        , 1.        ],\n",
       "       [0.07526882, 0.92473118],\n",
       "       [1.        , 0.        ],\n",
       "       [0.01075269, 0.98924731],\n",
       "       [0.        , 1.        ],\n",
       "       [0.05487805, 0.94512195],\n",
       "       [1.        , 0.        ],\n",
       "       [0.84662577, 0.15337423],\n",
       "       [0.        , 1.        ],\n",
       "       [0.92045455, 0.07954545],\n",
       "       [0.98285714, 0.01714286],\n",
       "       [0.21827411, 0.78172589],\n",
       "       [0.15642458, 0.84357542],\n",
       "       [1.        , 0.        ],\n",
       "       [0.        , 1.        ],\n",
       "       [0.        , 1.        ],\n",
       "       [0.        , 1.        ],\n",
       "       [0.27071823, 0.72928177],\n",
       "       [0.96774194, 0.03225806],\n",
       "       [0.00512821, 0.99487179],\n",
       "       [1.        , 0.        ],\n",
       "       [0.99462366, 0.00537634],\n",
       "       [0.        , 1.        ],\n",
       "       [0.5       , 0.5       ],\n",
       "       [1.        , 0.        ],\n",
       "       [0.        , 1.        ],\n",
       "       [1.        , 0.        ],\n",
       "       [0.        , 1.        ],\n",
       "       [0.        , 1.        ],\n",
       "       [0.06593407, 0.93406593],\n",
       "       [0.11538462, 0.88461538],\n",
       "       [0.97979798, 0.02020202],\n",
       "       [0.02259887, 0.97740113],\n",
       "       [1.        , 0.        ],\n",
       "       [0.44680851, 0.55319149],\n",
       "       [0.08074534, 0.91925466],\n",
       "       [0.56716418, 0.43283582],\n",
       "       [0.64480874, 0.35519126],\n",
       "       [0.        , 1.        ],\n",
       "       [1.        , 0.        ],\n",
       "       [0.        , 1.        ],\n",
       "       [0.        , 1.        ],\n",
       "       [0.60606061, 0.39393939],\n",
       "       [0.        , 1.        ],\n",
       "       [1.        , 0.        ],\n",
       "       [0.16860465, 0.83139535],\n",
       "       [0.80392157, 0.19607843],\n",
       "       [0.05780347, 0.94219653],\n",
       "       [1.        , 0.        ],\n",
       "       [0.83870968, 0.16129032],\n",
       "       [0.        , 1.        ],\n",
       "       [0.        , 1.        ],\n",
       "       [0.09497207, 0.90502793],\n",
       "       [0.02285714, 0.97714286],\n",
       "       [0.        , 1.        ],\n",
       "       [1.        , 0.        ],\n",
       "       [0.95811518, 0.04188482],\n",
       "       [0.16766467, 0.83233533],\n",
       "       [0.96449704, 0.03550296],\n",
       "       [0.        , 1.        ],\n",
       "       [0.53888889, 0.46111111],\n",
       "       [0.05376344, 0.94623656],\n",
       "       [0.98907104, 0.01092896],\n",
       "       [0.82539683, 0.17460317],\n",
       "       [0.        , 1.        ],\n",
       "       [1.        , 0.        ],\n",
       "       [0.95294118, 0.04705882],\n",
       "       [0.        , 1.        ],\n",
       "       [0.        , 1.        ],\n",
       "       [1.        , 0.        ],\n",
       "       [0.        , 1.        ],\n",
       "       [1.        , 0.        ],\n",
       "       [0.24352332, 0.75647668],\n",
       "       [0.99465241, 0.00534759],\n",
       "       [1.        , 0.        ],\n",
       "       [0.        , 1.        ],\n",
       "       [0.00549451, 0.99450549],\n",
       "       [0.88819876, 0.11180124],\n",
       "       [0.        , 1.        ],\n",
       "       [1.        , 0.        ],\n",
       "       [0.79      , 0.21      ],\n",
       "       [0.93421053, 0.06578947],\n",
       "       [1.        , 0.        ],\n",
       "       [0.68306011, 0.31693989],\n",
       "       [0.48730964, 0.51269036],\n",
       "       [0.        , 1.        ],\n",
       "       [0.92485549, 0.07514451],\n",
       "       [0.0060241 , 0.9939759 ],\n",
       "       [1.        , 0.        ],\n",
       "       [0.86910995, 0.13089005],\n",
       "       [1.        , 0.        ],\n",
       "       [1.        , 0.        ],\n",
       "       [0.74251497, 0.25748503],\n",
       "       [0.14044944, 0.85955056],\n",
       "       [0.51933702, 0.48066298],\n",
       "       [0.23076923, 0.76923077],\n",
       "       [0.        , 1.        ],\n",
       "       [0.89340102, 0.10659898],\n",
       "       [0.79679144, 0.20320856],\n",
       "       [0.01104972, 0.98895028],\n",
       "       [1.        , 0.        ],\n",
       "       [0.99      , 0.01      ],\n",
       "       [1.        , 0.        ],\n",
       "       [0.        , 1.        ],\n",
       "       [0.04060914, 0.95939086],\n",
       "       [0.96808511, 0.03191489],\n",
       "       [0.93567251, 0.06432749],\n",
       "       [1.        , 0.        ],\n",
       "       [0.50276243, 0.49723757],\n",
       "       [1.        , 0.        ],\n",
       "       [0.        , 1.        ],\n",
       "       [0.96685083, 0.03314917],\n",
       "       [0.05128205, 0.94871795],\n",
       "       [1.        , 0.        ],\n",
       "       [1.        , 0.        ],\n",
       "       [1.        , 0.        ],\n",
       "       [0.        , 1.        ],\n",
       "       [0.99494949, 0.00505051],\n",
       "       [0.00505051, 0.99494949],\n",
       "       [0.08522727, 0.91477273],\n",
       "       [0.        , 1.        ],\n",
       "       [0.        , 1.        ],\n",
       "       [1.        , 0.        ],\n",
       "       [1.        , 0.        ],\n",
       "       [0.        , 1.        ],\n",
       "       [1.        , 0.        ],\n",
       "       [0.01117318, 0.98882682],\n",
       "       [1.        , 0.        ],\n",
       "       [0.13227513, 0.86772487],\n",
       "       [0.        , 1.        ],\n",
       "       [0.        , 1.        ],\n",
       "       [0.        , 1.        ],\n",
       "       [0.45226131, 0.54773869],\n",
       "       [0.07936508, 0.92063492],\n",
       "       [0.18817204, 0.81182796],\n",
       "       [1.        , 0.        ],\n",
       "       [1.        , 0.        ],\n",
       "       [0.24725275, 0.75274725],\n",
       "       [0.98850575, 0.01149425],\n",
       "       [0.00574713, 0.99425287],\n",
       "       [0.        , 1.        ],\n",
       "       [1.        , 0.        ],\n",
       "       [0.96132597, 0.03867403],\n",
       "       [0.31284916, 0.68715084],\n",
       "       [0.98863636, 0.01136364],\n",
       "       [1.        , 0.        ],\n",
       "       [0.        , 1.        ],\n",
       "       [1.        , 0.        ],\n",
       "       [0.        , 1.        ],\n",
       "       [0.02645503, 0.97354497],\n",
       "       [0.98918919, 0.01081081],\n",
       "       [1.        , 0.        ],\n",
       "       [0.03414634, 0.96585366],\n",
       "       [0.66292135, 0.33707865]])"
      ]
     },
     "execution_count": 45,
     "metadata": {},
     "output_type": "execute_result"
    }
   ],
   "source": [
    "bag_clf.oob_decision_function_"
   ]
  },
  {
   "cell_type": "code",
   "execution_count": 54,
   "metadata": {
    "ExecuteTime": {
     "end_time": "2019-04-01T23:23:39.368603Z",
     "start_time": "2019-04-01T23:23:38.927421Z"
    }
   },
   "outputs": [
    {
     "data": {
      "text/plain": [
       "0.92"
      ]
     },
     "execution_count": 54,
     "metadata": {},
     "output_type": "execute_result"
    }
   ],
   "source": [
    "rnd_clf = RandomForestClassifier(n_estimators=500, max_leaf_nodes=16, n_jobs=-1)\n",
    "rnd_clf.fit(X_train, y_train)\n",
    "y_pred = rnd_clf.predict(X_test)\n",
    "accuracy_score(y_test, y_pred)"
   ]
  },
  {
   "cell_type": "code",
   "execution_count": 55,
   "metadata": {
    "ExecuteTime": {
     "end_time": "2019-04-01T23:23:50.365801Z",
     "start_time": "2019-04-01T23:23:49.915412Z"
    }
   },
   "outputs": [
    {
     "data": {
      "text/plain": [
       "0.904"
      ]
     },
     "execution_count": 55,
     "metadata": {},
     "output_type": "execute_result"
    }
   ],
   "source": [
    "rnd_clf = RandomForestClassifier(n_estimators=500, max_leaf_nodes=16, n_jobs=-1)\n",
    "rnd_clf.fit(X_train, y_train)\n",
    "y_pred = rnd_clf.predict(X_test)\n",
    "accuracy_score(y_test, y_pred)"
   ]
  },
  {
   "cell_type": "code",
   "execution_count": 51,
   "metadata": {
    "ExecuteTime": {
     "end_time": "2019-04-01T22:34:35.545505Z",
     "start_time": "2019-04-01T22:34:35.090980Z"
    }
   },
   "outputs": [
    {
     "name": "stdout",
     "output_type": "stream",
     "text": [
      "sepal length (cm) 0.0935777366329314\n",
      "sepal width (cm) 0.02190735522250755\n",
      "petal length (cm) 0.449369702624257\n",
      "petal width (cm) 0.43514520552030395\n"
     ]
    }
   ],
   "source": [
    "from sklearn.datasets import load_iris\n",
    "iris = load_iris()\n",
    "\n",
    "rnd_clf = RandomForestClassifier(n_estimators=500, n_jobs=-1)\n",
    "rnd_clf.fit(iris[\"data\"], iris[\"target\"])\n",
    "\n",
    "for name, score in zip(iris[\"feature_names\"], rnd_clf.feature_importances_):\n",
    "    print(name, score)"
   ]
  },
  {
   "cell_type": "code",
   "execution_count": 63,
   "metadata": {
    "ExecuteTime": {
     "end_time": "2019-04-01T23:27:21.282552Z",
     "start_time": "2019-04-01T23:27:21.129953Z"
    }
   },
   "outputs": [
    {
     "data": {
      "text/plain": [
       "0.896"
      ]
     },
     "execution_count": 63,
     "metadata": {},
     "output_type": "execute_result"
    }
   ],
   "source": [
    "ada_clf = AdaBoostClassifier(\n",
    "    DecisionTreeClassifier(max_depth=1), n_estimators=200,\n",
    "    algorithm=\"SAMME.R\", learning_rate=0.5\n",
    ")\n",
    "ada_clf.fit(X_train, y_train)\n",
    "y_pred= ada_clf.predict(X_test)\n",
    "accuracy_score(y_test, y_pred)"
   ]
  },
  {
   "cell_type": "code",
   "execution_count": 65,
   "metadata": {
    "ExecuteTime": {
     "end_time": "2019-04-01T23:28:12.750274Z",
     "start_time": "2019-04-01T23:28:12.744290Z"
    }
   },
   "outputs": [
    {
     "data": {
      "text/plain": [
       "GradientBoostingRegressor(alpha=0.9, criterion='friedman_mse', init=None,\n",
       "             learning_rate=1.0, loss='ls', max_depth=2, max_features=None,\n",
       "             max_leaf_nodes=None, min_impurity_decrease=0.0,\n",
       "             min_impurity_split=None, min_samples_leaf=1,\n",
       "             min_samples_split=2, min_weight_fraction_leaf=0.0,\n",
       "             n_estimators=3, n_iter_no_change=None, presort='auto',\n",
       "             random_state=None, subsample=1.0, tol=0.0001,\n",
       "             validation_fraction=0.1, verbose=0, warm_start=False)"
      ]
     },
     "execution_count": 65,
     "metadata": {},
     "output_type": "execute_result"
    }
   ],
   "source": [
    "gbrt = GradientBoostingRegressor(max_depth=2, n_estimators=3, learning_rate=1.0)\n",
    "gbrt.fit(X, y)\n"
   ]
  },
  {
   "cell_type": "markdown",
   "metadata": {},
   "source": [
    "# Exercises"
   ]
  },
  {
   "cell_type": "code",
   "execution_count": 3,
   "metadata": {
    "ExecuteTime": {
     "end_time": "2019-04-03T20:06:14.787059Z",
     "start_time": "2019-04-03T20:06:14.612526Z"
    }
   },
   "outputs": [],
   "source": [
    "#8\n",
    "from sklearn.datasets import fetch_openml\n",
    "import numpy as np\n",
    "import os\n",
    "%matplotlib inline\n",
    "import matplotlib as mpl\n",
    "import matplotlib.pyplot as plt\n",
    "\n",
    "def sort_by_target(mnist):  #From Geron HoM Github\n",
    "    reorder_train = np.array(sorted([(target, i) for i, target in enumerate(mnist.target[:60000])]))[:, 1]\n",
    "    reorder_test = np.array(sorted([(target, i) for i, target in enumerate(mnist.target[60000:])]))[:, 1]\n",
    "    mnist.data[:60000] = mnist.data[reorder_train]\n",
    "    mnist.target[:60000] = mnist.target[reorder_train]\n",
    "    mnist.data[60000:] = mnist.data[reorder_test + 60000]\n",
    "    mnist.target[60000:] = mnist.target[reorder_test + 60000]"
   ]
  },
  {
   "cell_type": "code",
   "execution_count": 4,
   "metadata": {
    "ExecuteTime": {
     "end_time": "2019-04-03T20:07:41.715020Z",
     "start_time": "2019-04-03T20:07:21.786476Z"
    }
   },
   "outputs": [],
   "source": [
    "mnist = fetch_openml('mnist_784', version=1, cache=True)\n",
    "mnist.target = mnist.target.astype(np.int8) \n",
    "sort_by_target(mnist) \n",
    "\n",
    "X,y = mnist[\"data\"],mnist[\"target\"]\n",
    "X_train, X_test, y_train, y_test = train_test_split(X, y, random_state=42)\n",
    "X_train, X_val, y_train, y_val = train_test_split(X_train,y_train, random_state=42)"
   ]
  },
  {
   "cell_type": "code",
   "execution_count": 5,
   "metadata": {
    "ExecuteTime": {
     "end_time": "2019-04-03T20:07:46.017395Z",
     "start_time": "2019-04-03T20:07:43.985113Z"
    }
   },
   "outputs": [
    {
     "name": "stderr",
     "output_type": "stream",
     "text": [
      "c:\\users\\daniel\\appdata\\local\\continuum\\anaconda3\\envs\\ada\\lib\\site-packages\\sklearn\\ensemble\\forest.py:246: FutureWarning: The default value of n_estimators will change from 10 in version 0.20 to 100 in 0.22.\n",
      "  \"10 in version 0.20 to 100 in 0.22.\", FutureWarning)\n"
     ]
    },
    {
     "data": {
      "text/plain": [
       "0.9376761904761904"
      ]
     },
     "execution_count": 5,
     "metadata": {},
     "output_type": "execute_result"
    }
   ],
   "source": [
    "from sklearn.ensemble import RandomForestClassifier\n",
    "\n",
    "RF = RandomForestClassifier(random_state = 42)\n",
    "RF.fit(X_train, y_train)\n",
    "\n",
    "y_pred = RF.predict(X_val)\n",
    "accuracy_score(y_val, y_pred)"
   ]
  },
  {
   "cell_type": "code",
   "execution_count": 6,
   "metadata": {
    "ExecuteTime": {
     "end_time": "2019-04-03T20:07:49.613663Z",
     "start_time": "2019-04-03T20:07:47.583158Z"
    }
   },
   "outputs": [
    {
     "name": "stderr",
     "output_type": "stream",
     "text": [
      "c:\\users\\daniel\\appdata\\local\\continuum\\anaconda3\\envs\\ada\\lib\\site-packages\\sklearn\\ensemble\\forest.py:246: FutureWarning: The default value of n_estimators will change from 10 in version 0.20 to 100 in 0.22.\n",
      "  \"10 in version 0.20 to 100 in 0.22.\", FutureWarning)\n"
     ]
    },
    {
     "data": {
      "text/plain": [
       "0.942247619047619"
      ]
     },
     "execution_count": 6,
     "metadata": {},
     "output_type": "execute_result"
    }
   ],
   "source": [
    "from sklearn.ensemble import ExtraTreesClassifier\n",
    "\n",
    "ET = ExtraTreesClassifier(random_state = 42)\n",
    "ET.fit(X_train, y_train)\n",
    "\n",
    "y_pred = ET.predict(X_val)\n",
    "accuracy_score(y_val, y_pred)"
   ]
  },
  {
   "cell_type": "code",
   "execution_count": 12,
   "metadata": {
    "ExecuteTime": {
     "end_time": "2019-04-03T20:10:47.767816Z",
     "start_time": "2019-04-03T20:09:45.945984Z"
    }
   },
   "outputs": [
    {
     "name": "stdout",
     "output_type": "stream",
     "text": [
      "[LibLinear]"
     ]
    },
    {
     "name": "stderr",
     "output_type": "stream",
     "text": [
      "c:\\users\\daniel\\appdata\\local\\continuum\\anaconda3\\envs\\ada\\lib\\site-packages\\sklearn\\svm\\base.py:931: ConvergenceWarning: Liblinear failed to converge, increase the number of iterations.\n",
      "  \"the number of iterations.\", ConvergenceWarning)\n"
     ]
    },
    {
     "data": {
      "text/plain": [
       "0.8663619047619048"
      ]
     },
     "execution_count": 12,
     "metadata": {},
     "output_type": "execute_result"
    }
   ],
   "source": [
    "from sklearn.svm import LinearSVC\n",
    "\n",
    "SVM = LinearSVC(random_state = 42, verbose = 1)\n",
    "SVM.fit(X_train, y_train)\n",
    "\n",
    "y_pred = SVM.predict(X_val)\n",
    "accuracy_score(y_val, y_pred)"
   ]
  },
  {
   "cell_type": "code",
   "execution_count": 22,
   "metadata": {
    "ExecuteTime": {
     "end_time": "2019-04-03T20:50:55.185356Z",
     "start_time": "2019-04-03T20:49:20.696835Z"
    }
   },
   "outputs": [
    {
     "name": "stderr",
     "output_type": "stream",
     "text": [
      "c:\\users\\daniel\\appdata\\local\\continuum\\anaconda3\\envs\\ada\\lib\\site-packages\\sklearn\\ensemble\\forest.py:246: FutureWarning: The default value of n_estimators will change from 10 in version 0.20 to 100 in 0.22.\n",
      "  \"10 in version 0.20 to 100 in 0.22.\", FutureWarning)\n",
      "c:\\users\\daniel\\appdata\\local\\continuum\\anaconda3\\envs\\ada\\lib\\site-packages\\sklearn\\ensemble\\forest.py:246: FutureWarning: The default value of n_estimators will change from 10 in version 0.20 to 100 in 0.22.\n",
      "  \"10 in version 0.20 to 100 in 0.22.\", FutureWarning)\n",
      "c:\\users\\daniel\\appdata\\local\\continuum\\anaconda3\\envs\\ada\\lib\\site-packages\\sklearn\\svm\\base.py:931: ConvergenceWarning: Liblinear failed to converge, increase the number of iterations.\n",
      "  \"the number of iterations.\", ConvergenceWarning)\n"
     ]
    },
    {
     "data": {
      "text/plain": [
       "0.9558095238095238"
      ]
     },
     "execution_count": 22,
     "metadata": {},
     "output_type": "execute_result"
    }
   ],
   "source": [
    "from sklearn.svm import LinearSVC\n",
    "from sklearn.neural_network import MLPClassifier\n",
    "\n",
    "extra_clf = ExtraTreesClassifier()\n",
    "rnd_clf = RandomForestClassifier()\n",
    "svm_clf = LinearSVC()\n",
    "mlp = MLPClassifier()\n",
    "\n",
    "voting_clf_h = VotingClassifier(\n",
    "    estimators=[('xt', extra_clf), ('rf', rnd_clf), ('svc', svm_clf),('mlp', mlp)],\n",
    "    voting='hard')\n",
    "\n",
    "voting_clf_h.fit(X_train, y_train)\n",
    "y_pred = voting_clf_h.predict(X_val)\n",
    "accuracy_score(y_val, y_pred)"
   ]
  },
  {
   "cell_type": "code",
   "execution_count": 24,
   "metadata": {
    "ExecuteTime": {
     "end_time": "2019-04-03T21:07:13.420221Z",
     "start_time": "2019-04-03T21:06:23.986845Z"
    }
   },
   "outputs": [
    {
     "name": "stderr",
     "output_type": "stream",
     "text": [
      "c:\\users\\daniel\\appdata\\local\\continuum\\anaconda3\\envs\\ada\\lib\\site-packages\\sklearn\\ensemble\\forest.py:246: FutureWarning: The default value of n_estimators will change from 10 in version 0.20 to 100 in 0.22.\n",
      "  \"10 in version 0.20 to 100 in 0.22.\", FutureWarning)\n",
      "c:\\users\\daniel\\appdata\\local\\continuum\\anaconda3\\envs\\ada\\lib\\site-packages\\sklearn\\ensemble\\forest.py:246: FutureWarning: The default value of n_estimators will change from 10 in version 0.20 to 100 in 0.22.\n",
      "  \"10 in version 0.20 to 100 in 0.22.\", FutureWarning)\n"
     ]
    },
    {
     "data": {
      "text/plain": [
       "0.9619047619047619"
      ]
     },
     "execution_count": 24,
     "metadata": {},
     "output_type": "execute_result"
    }
   ],
   "source": [
    "voting_clf_h = VotingClassifier(\n",
    "    estimators=[('xt', extra_clf), ('rf', rnd_clf),('mlp', mlp)],\n",
    "    voting='hard')\n",
    "\n",
    "voting_clf_h.fit(X_train, y_train)\n",
    "y_pred = voting_clf_h.predict(X_val)\n",
    "accuracy_score(y_val, y_pred)"
   ]
  },
  {
   "cell_type": "code",
   "execution_count": 25,
   "metadata": {
    "ExecuteTime": {
     "end_time": "2019-04-03T21:12:15.173289Z",
     "start_time": "2019-04-03T21:11:43.041041Z"
    }
   },
   "outputs": [
    {
     "name": "stderr",
     "output_type": "stream",
     "text": [
      "c:\\users\\daniel\\appdata\\local\\continuum\\anaconda3\\envs\\ada\\lib\\site-packages\\sklearn\\ensemble\\forest.py:246: FutureWarning: The default value of n_estimators will change from 10 in version 0.20 to 100 in 0.22.\n",
      "  \"10 in version 0.20 to 100 in 0.22.\", FutureWarning)\n",
      "c:\\users\\daniel\\appdata\\local\\continuum\\anaconda3\\envs\\ada\\lib\\site-packages\\sklearn\\ensemble\\forest.py:246: FutureWarning: The default value of n_estimators will change from 10 in version 0.20 to 100 in 0.22.\n",
      "  \"10 in version 0.20 to 100 in 0.22.\", FutureWarning)\n"
     ]
    },
    {
     "data": {
      "text/plain": [
       "0.9651809523809524"
      ]
     },
     "execution_count": 25,
     "metadata": {},
     "output_type": "execute_result"
    }
   ],
   "source": [
    "from sklearn.svm import LinearSVC\n",
    "from sklearn.neural_network import MLPClassifier\n",
    "\n",
    "extra_clf = ExtraTreesClassifier()\n",
    "rnd_clf = RandomForestClassifier()\n",
    "svm_clf = LinearSVC()\n",
    "mlp = MLPClassifier()\n",
    "\n",
    "voting_clf_s = VotingClassifier(\n",
    "    estimators=[('xt', extra_clf), ('rf', rnd_clf),('mlp', mlp)],\n",
    "    voting='soft')\n",
    "\n",
    "voting_clf_s.fit(X_train, y_train)\n",
    "y_pred = voting_clf_s.predict(X_val)\n",
    "accuracy_score(y_val, y_pred)"
   ]
  },
  {
   "cell_type": "code",
   "execution_count": 18,
   "metadata": {
    "ExecuteTime": {
     "end_time": "2019-04-03T20:41:24.273910Z",
     "start_time": "2019-04-03T20:41:24.166197Z"
    }
   },
   "outputs": [
    {
     "data": {
      "text/plain": [
       "0.9401714285714285"
      ]
     },
     "execution_count": 18,
     "metadata": {},
     "output_type": "execute_result"
    }
   ],
   "source": [
    "y_pred = RF.predict(X_test)\n",
    "accuracy_score(y_test, y_pred)"
   ]
  },
  {
   "cell_type": "code",
   "execution_count": 19,
   "metadata": {
    "ExecuteTime": {
     "end_time": "2019-04-03T20:41:25.989223Z",
     "start_time": "2019-04-03T20:41:25.884505Z"
    }
   },
   "outputs": [
    {
     "data": {
      "text/plain": [
       "0.9453142857142857"
      ]
     },
     "execution_count": 19,
     "metadata": {},
     "output_type": "execute_result"
    }
   ],
   "source": [
    "y_pred = ET.predict(X_test)\n",
    "accuracy_score(y_test, y_pred)"
   ]
  },
  {
   "cell_type": "code",
   "execution_count": 20,
   "metadata": {
    "ExecuteTime": {
     "end_time": "2019-04-03T20:41:28.029843Z",
     "start_time": "2019-04-03T20:41:27.996931Z"
    }
   },
   "outputs": [
    {
     "data": {
      "text/plain": [
       "0.8708571428571429"
      ]
     },
     "execution_count": 20,
     "metadata": {},
     "output_type": "execute_result"
    }
   ],
   "source": [
    "y_pred = SVM.predict(X_test)\n",
    "accuracy_score(y_test, y_pred)"
   ]
  },
  {
   "cell_type": "code",
   "execution_count": 31,
   "metadata": {
    "ExecuteTime": {
     "end_time": "2019-04-03T21:16:03.604435Z",
     "start_time": "2019-04-03T21:15:38.818683Z"
    }
   },
   "outputs": [
    {
     "data": {
      "text/plain": [
       "0.9640571428571428"
      ]
     },
     "execution_count": 31,
     "metadata": {},
     "output_type": "execute_result"
    }
   ],
   "source": [
    "from sklearn.neural_network import MLPClassifier\n",
    "\n",
    "MLP = MLPClassifier()\n",
    "MLP.fit(X_train,y_train)\n",
    "y_pred = MLP.predict(X_test)\n",
    "accuracy_score(y_test, y_pred)"
   ]
  },
  {
   "cell_type": "code",
   "execution_count": 26,
   "metadata": {
    "ExecuteTime": {
     "end_time": "2019-04-03T21:12:43.738779Z",
     "start_time": "2019-04-03T21:12:43.420243Z"
    }
   },
   "outputs": [
    {
     "data": {
      "text/plain": [
       "0.9621714285714286"
      ]
     },
     "execution_count": 26,
     "metadata": {},
     "output_type": "execute_result"
    }
   ],
   "source": [
    "y_pred = voting_clf_h.predict(X_test)\n",
    "accuracy_score(y_test, y_pred)"
   ]
  },
  {
   "cell_type": "code",
   "execution_count": 27,
   "metadata": {
    "ExecuteTime": {
     "end_time": "2019-04-03T21:12:45.785906Z",
     "start_time": "2019-04-03T21:12:45.543513Z"
    }
   },
   "outputs": [
    {
     "data": {
      "text/plain": [
       "0.9651428571428572"
      ]
     },
     "execution_count": 27,
     "metadata": {},
     "output_type": "execute_result"
    }
   ],
   "source": [
    "y_pred = voting_clf_s.predict(X_test)\n",
    "accuracy_score(y_test, y_pred)"
   ]
  },
  {
   "cell_type": "code",
   "execution_count": 64,
   "metadata": {
    "ExecuteTime": {
     "end_time": "2019-04-03T22:08:45.166982Z",
     "start_time": "2019-04-03T22:08:44.963688Z"
    }
   },
   "outputs": [
    {
     "data": {
      "text/plain": [
       "array([[4],\n",
       "       [0],\n",
       "       [4],\n",
       "       ...,\n",
       "       [9],\n",
       "       [7],\n",
       "       [9]], dtype=int8)"
      ]
     },
     "execution_count": 64,
     "metadata": {},
     "output_type": "execute_result"
    }
   ],
   "source": [
    "#9\n",
    "val_pred_rf = RF.predict(X_val).reshape((-1, 1)) \n",
    "val_pred_et = ET.predict(X_val).reshape((-1, 1)) \n",
    "val_pred_svm = SVM.predict(X_val).reshape((-1, 1)) \n",
    "val_pred_mlp = MLP.predict(X_val).reshape((-1, 1)) \n",
    "val_pred_rf"
   ]
  },
  {
   "cell_type": "code",
   "execution_count": 71,
   "metadata": {
    "ExecuteTime": {
     "end_time": "2019-04-03T22:11:34.825009Z",
     "start_time": "2019-04-03T22:11:34.819983Z"
    }
   },
   "outputs": [
    {
     "data": {
      "text/plain": [
       "array([[4, 4, 4, 4],\n",
       "       [0, 0, 0, 0],\n",
       "       [4, 4, 4, 4],\n",
       "       ...,\n",
       "       [9, 9, 9, 9],\n",
       "       [7, 7, 7, 7],\n",
       "       [9, 9, 7, 9]], dtype=int8)"
      ]
     },
     "execution_count": 71,
     "metadata": {},
     "output_type": "execute_result"
    }
   ],
   "source": [
    "new_train = np.concatenate((val_pred_rf,val_pred_et,val_pred_svm,val_pred_mlp),axis=1)\n",
    "new_train"
   ]
  },
  {
   "cell_type": "code",
   "execution_count": 74,
   "metadata": {
    "ExecuteTime": {
     "end_time": "2019-04-03T22:13:31.583588Z",
     "start_time": "2019-04-03T22:13:31.579614Z"
    }
   },
   "outputs": [
    {
     "data": {
      "text/plain": [
       "array([[4],\n",
       "       [0],\n",
       "       [4],\n",
       "       ...,\n",
       "       [9],\n",
       "       [7],\n",
       "       [9]], dtype=int8)"
      ]
     },
     "execution_count": 74,
     "metadata": {},
     "output_type": "execute_result"
    }
   ],
   "source": [
    "y_val.reshape((-1, 1)) "
   ]
  },
  {
   "cell_type": "code",
   "execution_count": 75,
   "metadata": {
    "ExecuteTime": {
     "end_time": "2019-04-03T22:13:57.088547Z",
     "start_time": "2019-04-03T22:13:50.339926Z"
    }
   },
   "outputs": [
    {
     "name": "stderr",
     "output_type": "stream",
     "text": [
      "c:\\users\\daniel\\appdata\\local\\continuum\\anaconda3\\envs\\ada\\lib\\site-packages\\sklearn\\neural_network\\multilayer_perceptron.py:562: ConvergenceWarning: Stochastic Optimizer: Maximum iterations (200) reached and the optimization hasn't converged yet.\n",
      "  % self.max_iter, ConvergenceWarning)\n"
     ]
    },
    {
     "data": {
      "text/plain": [
       "MLPClassifier(activation='relu', alpha=0.0001, batch_size='auto', beta_1=0.9,\n",
       "       beta_2=0.999, early_stopping=False, epsilon=1e-08,\n",
       "       hidden_layer_sizes=(100,), learning_rate='constant',\n",
       "       learning_rate_init=0.001, max_iter=200, momentum=0.9,\n",
       "       n_iter_no_change=10, nesterovs_momentum=True, power_t=0.5,\n",
       "       random_state=None, shuffle=True, solver='adam', tol=0.0001,\n",
       "       validation_fraction=0.1, verbose=False, warm_start=False)"
      ]
     },
     "execution_count": 75,
     "metadata": {},
     "output_type": "execute_result"
    }
   ],
   "source": [
    "mlp_blender = MLPClassifier()\n",
    "\n",
    "mlp_blender.fit(new_train,y_val)"
   ]
  },
  {
   "cell_type": "code",
   "execution_count": 76,
   "metadata": {
    "ExecuteTime": {
     "end_time": "2019-04-03T22:17:45.286645Z",
     "start_time": "2019-04-03T22:17:44.999280Z"
    }
   },
   "outputs": [],
   "source": [
    "#Test stack\n",
    "#Predict test set values to be fed to blender \n",
    "val_pred_rf = RF.predict(X_test).reshape((-1, 1)) \n",
    "val_pred_et = ET.predict(X_test).reshape((-1, 1)) \n",
    "val_pred_svm = SVM.predict(X_test).reshape((-1, 1)) \n",
    "val_pred_mlp = MLP.predict(X_test).reshape((-1, 1))\n",
    "\n",
    "new_test = np.concatenate((val_pred_rf,val_pred_et,val_pred_svm,val_pred_mlp),axis=1)\n",
    "\n",
    "#Aggregate predictions with trained blender\n",
    "blend_predict = mlp_blender.predict(new_test)\n"
   ]
  },
  {
   "cell_type": "code",
   "execution_count": 77,
   "metadata": {
    "ExecuteTime": {
     "end_time": "2019-04-03T22:17:48.147691Z",
     "start_time": "2019-04-03T22:17:48.142738Z"
    }
   },
   "outputs": [
    {
     "data": {
      "text/plain": [
       "0.9557142857142857"
      ]
     },
     "execution_count": 77,
     "metadata": {},
     "output_type": "execute_result"
    }
   ],
   "source": [
    "accuracy_score(blend_predict,y_test)"
   ]
  },
  {
   "cell_type": "code",
   "execution_count": null,
   "metadata": {},
   "outputs": [],
   "source": []
  }
 ],
 "metadata": {
  "kernelspec": {
   "display_name": "Python 3",
   "language": "python",
   "name": "python3"
  },
  "language_info": {
   "codemirror_mode": {
    "name": "ipython",
    "version": 3
   },
   "file_extension": ".py",
   "mimetype": "text/x-python",
   "name": "python",
   "nbconvert_exporter": "python",
   "pygments_lexer": "ipython3",
   "version": "3.7.2"
  }
 },
 "nbformat": 4,
 "nbformat_minor": 2
}
